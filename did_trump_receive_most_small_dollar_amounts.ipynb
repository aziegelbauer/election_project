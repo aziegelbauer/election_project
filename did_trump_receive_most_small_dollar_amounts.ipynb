{
 "cells": [
  {
   "cell_type": "code",
   "execution_count": 39,
   "metadata": {},
   "outputs": [
    {
     "name": "stderr",
     "output_type": "stream",
     "text": [
      "/anaconda3/lib/python3.6/site-packages/IPython/core/interactiveshell.py:2728: DtypeWarning: Columns (6,11,12,13) have mixed types. Specify dtype option on import or set low_memory=False.\n",
      "  interactivity=interactivity, compiler=compiler, result=result)\n"
     ]
    }
   ],
   "source": [
    "#imports libraries and csv file\n",
    "import pandas as pd\n",
    "df = pd.read_csv('election_data_wholefile.csv', index_col=False)"
   ]
  },
  {
   "cell_type": "code",
   "execution_count": 46,
   "metadata": {},
   "outputs": [],
   "source": [
    "#subsets data of only Trump contributions\n",
    "trump = df.query('cand_nm == \"Trump, Donald J.\"')\n",
    "#subsets Trump data for only under $200\n",
    "trump_smallcont = trump.query('contb_receipt_amt <=200')"
   ]
  },
  {
   "cell_type": "code",
   "execution_count": 55,
   "metadata": {},
   "outputs": [
    {
     "data": {
      "text/plain": [
       "34858234.269999996"
      ]
     },
     "execution_count": 55,
     "metadata": {},
     "output_type": "execute_result"
    }
   ],
   "source": [
    "#finds sum of <$200 contributions to Trump\n",
    "trump_smallcont.contb_receipt_amt.sum()"
   ]
  },
  {
   "cell_type": "code",
   "execution_count": 48,
   "metadata": {},
   "outputs": [],
   "source": [
    "#subsets data of only Clinton contributions\n",
    "hill = df.query('cand_nm == \"Clinton, Hillary Rodham\"')\n",
    "#subsets Clinton data for only under $200\n",
    "hill_smallcont = hill.query('contb_receipt_amt <=200')"
   ]
  },
  {
   "cell_type": "code",
   "execution_count": 56,
   "metadata": {},
   "outputs": [
    {
     "data": {
      "text/plain": [
       "123864908.07000008"
      ]
     },
     "execution_count": 56,
     "metadata": {},
     "output_type": "execute_result"
    }
   ],
   "source": [
    "#finds sum of <$200 contributions to Clinton\n",
    "hill_smallcont.contb_receipt_amt.sum()"
   ]
  },
  {
   "cell_type": "code",
   "execution_count": 50,
   "metadata": {},
   "outputs": [],
   "source": [
    "#subsets data of only Sanders contributions\n",
    "bern = df.query('cand_nm == \"Sanders, Bernard\"')\n",
    "#subsets Sanders data for only under $200\n",
    "bern_smallcont = bern.query('contb_receipt_amt <=200')"
   ]
  },
  {
   "cell_type": "code",
   "execution_count": 57,
   "metadata": {},
   "outputs": [
    {
     "data": {
      "text/plain": [
       "61902951.78000003"
      ]
     },
     "execution_count": 57,
     "metadata": {},
     "output_type": "execute_result"
    }
   ],
   "source": [
    "#finds sum of <$200 contributions to Sanders\n",
    "bern_smallcont.contb_receipt_amt.sum()"
   ]
  }
 ],
 "metadata": {
  "kernelspec": {
   "display_name": "Python [default]",
   "language": "python",
   "name": "python3"
  },
  "language_info": {
   "codemirror_mode": {
    "name": "ipython",
    "version": 3
   },
   "file_extension": ".py",
   "mimetype": "text/x-python",
   "name": "python",
   "nbconvert_exporter": "python",
   "pygments_lexer": "ipython3",
   "version": "3.6.4"
  }
 },
 "nbformat": 4,
 "nbformat_minor": 2
}
